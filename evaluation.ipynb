{
 "cells": [
  {
   "cell_type": "markdown",
   "id": "engaged-interstate",
   "metadata": {},
   "source": [
    "# Imports"
   ]
  },
  {
   "cell_type": "code",
   "execution_count": null,
   "id": "understanding-african",
   "metadata": {},
   "outputs": [],
   "source": [
    "%load_ext autoreload\n",
    "%autoreload 2\n",
    "import warnings\n",
    "warnings.filterwarnings('ignore')\n",
    "\n",
    "import keras\n",
    "import scripts.preprocessing as preprocessing\n",
    "from scripts.metrics import print_metrics, f1, plot_confusion_matrix, create_shap_plot"
   ]
  },
  {
   "cell_type": "markdown",
   "id": "frequent-elephant",
   "metadata": {},
   "source": [
    "## Data preprocessing and loading"
   ]
  },
  {
   "cell_type": "code",
   "execution_count": null,
   "id": "expensive-america",
   "metadata": {},
   "outputs": [],
   "source": [
    "X_train, X_test, y_train, y_test, label_names, feature_names = preprocessing.preprocess_data()"
   ]
  },
  {
   "cell_type": "markdown",
   "id": "demonstrated-casting",
   "metadata": {},
   "source": [
    "## Model loading"
   ]
  },
  {
   "cell_type": "code",
   "execution_count": null,
   "id": "narrow-penny",
   "metadata": {},
   "outputs": [],
   "source": [
    "custom_metrics = {\n",
    "    'f1': f1\n",
    "}"
   ]
  },
  {
   "cell_type": "code",
   "execution_count": null,
   "id": "improved-finding",
   "metadata": {},
   "outputs": [],
   "source": [
    "model = keras.models.load_model('./CNN_Model', custom_objects=custom_metrics)"
   ]
  },
  {
   "cell_type": "markdown",
   "id": "local-wallace",
   "metadata": {},
   "source": [
    "## Model evaluation"
   ]
  },
  {
   "cell_type": "code",
   "execution_count": null,
   "id": "emotional-ghost",
   "metadata": {},
   "outputs": [],
   "source": [
    "y_pred = model.predict(X_test)"
   ]
  },
  {
   "cell_type": "code",
   "execution_count": null,
   "id": "processed-pulse",
   "metadata": {},
   "outputs": [],
   "source": [
    "metrics = print_metrics(model, X_test, y_test)"
   ]
  },
  {
   "cell_type": "code",
   "execution_count": null,
   "id": "judicial-remedy",
   "metadata": {},
   "outputs": [],
   "source": [
    "import matplotlib as mpl\n",
    "mpl.rcParams['figure.dpi'] = 600\n",
    "confusion_matrix = plot_confusion_matrix(y_test, y_pred)"
   ]
  },
  {
   "cell_type": "code",
   "execution_count": null,
   "id": "improving-notion",
   "metadata": {},
   "outputs": [],
   "source": [
    "shap_plot = create_shap_plot(model, X_train, X_test, feature_names)"
   ]
  },
  {
   "cell_type": "code",
   "execution_count": null,
   "id": "registered-jamaica",
   "metadata": {},
   "outputs": [],
   "source": []
  }
 ],
 "metadata": {
  "kernelspec": {
   "display_name": "Python 3",
   "language": "python",
   "name": "python3"
  },
  "language_info": {
   "codemirror_mode": {
    "name": "ipython",
    "version": 3
   },
   "file_extension": ".py",
   "mimetype": "text/x-python",
   "name": "python",
   "nbconvert_exporter": "python",
   "pygments_lexer": "ipython3",
   "version": "3.7.9"
  }
 },
 "nbformat": 4,
 "nbformat_minor": 5
}
